{
 "cells": [
  {
   "cell_type": "code",
   "execution_count": 1,
   "metadata": {},
   "outputs": [],
   "source": [
    "import pandas as pd\n",
    "import numpy as np\n",
    "import random"
   ]
  },
  {
   "cell_type": "code",
   "execution_count": 5,
   "metadata": {},
   "outputs": [
    {
     "data": {
      "text/html": [
       "<div>\n",
       "<style scoped>\n",
       "    .dataframe tbody tr th:only-of-type {\n",
       "        vertical-align: middle;\n",
       "    }\n",
       "\n",
       "    .dataframe tbody tr th {\n",
       "        vertical-align: top;\n",
       "    }\n",
       "\n",
       "    .dataframe thead th {\n",
       "        text-align: right;\n",
       "    }\n",
       "</style>\n",
       "<table border=\"1\" class=\"dataframe\">\n",
       "  <thead>\n",
       "    <tr style=\"text-align: right;\">\n",
       "      <th></th>\n",
       "      <th>Type</th>\n",
       "      <th>Name</th>\n",
       "      <th>HP</th>\n",
       "      <th>AC</th>\n",
       "      <th>str_save</th>\n",
       "      <th>dex_save</th>\n",
       "      <th>con_save</th>\n",
       "      <th>wis_save</th>\n",
       "      <th>cha_save</th>\n",
       "      <th>int_save</th>\n",
       "      <th>initiative_bonus</th>\n",
       "      <th>healer</th>\n",
       "      <th>bonus_action_heal</th>\n",
       "      <th>heal_amount</th>\n",
       "      <th>number_of_attacks</th>\n",
       "      <th>attack_bonus</th>\n",
       "      <th>number_of_targets</th>\n",
       "      <th>spell_save_dc</th>\n",
       "      <th>targeted_save</th>\n",
       "      <th>attack_damage</th>\n",
       "    </tr>\n",
       "  </thead>\n",
       "  <tbody>\n",
       "    <tr>\n",
       "      <th>0</th>\n",
       "      <td>Martial</td>\n",
       "      <td>Barbarian</td>\n",
       "      <td>12</td>\n",
       "      <td>14</td>\n",
       "      <td>3</td>\n",
       "      <td>2</td>\n",
       "      <td>3</td>\n",
       "      <td>-1</td>\n",
       "      <td>0</td>\n",
       "      <td>-1</td>\n",
       "      <td>0</td>\n",
       "      <td>False</td>\n",
       "      <td>NaN</td>\n",
       "      <td>NaN</td>\n",
       "      <td>2.0</td>\n",
       "      <td>2.0</td>\n",
       "      <td>NaN</td>\n",
       "      <td>NaN</td>\n",
       "      <td>NaN</td>\n",
       "      <td>2d6+4</td>\n",
       "    </tr>\n",
       "    <tr>\n",
       "      <th>1</th>\n",
       "      <td>Martial</td>\n",
       "      <td>Fighter</td>\n",
       "      <td>10</td>\n",
       "      <td>16</td>\n",
       "      <td>3</td>\n",
       "      <td>4</td>\n",
       "      <td>3</td>\n",
       "      <td>0</td>\n",
       "      <td>0</td>\n",
       "      <td>-1</td>\n",
       "      <td>0</td>\n",
       "      <td>False</td>\n",
       "      <td>NaN</td>\n",
       "      <td>NaN</td>\n",
       "      <td>1.0</td>\n",
       "      <td>2.0</td>\n",
       "      <td>NaN</td>\n",
       "      <td>NaN</td>\n",
       "      <td>NaN</td>\n",
       "      <td>1d12+4</td>\n",
       "    </tr>\n",
       "    <tr>\n",
       "      <th>2</th>\n",
       "      <td>Blaster</td>\n",
       "      <td>Cleric</td>\n",
       "      <td>8</td>\n",
       "      <td>12</td>\n",
       "      <td>0</td>\n",
       "      <td>0</td>\n",
       "      <td>1</td>\n",
       "      <td>3</td>\n",
       "      <td>2</td>\n",
       "      <td>0</td>\n",
       "      <td>0</td>\n",
       "      <td>True</td>\n",
       "      <td>1.0</td>\n",
       "      <td>1d4+3</td>\n",
       "      <td>NaN</td>\n",
       "      <td>NaN</td>\n",
       "      <td>2.0</td>\n",
       "      <td>13.0</td>\n",
       "      <td>dex</td>\n",
       "      <td>3d6</td>\n",
       "    </tr>\n",
       "  </tbody>\n",
       "</table>\n",
       "</div>"
      ],
      "text/plain": [
       "      Type       Name  HP  AC  str_save  dex_save  con_save  wis_save  \\\n",
       "0  Martial  Barbarian  12  14         3         2         3        -1   \n",
       "1  Martial    Fighter  10  16         3         4         3         0   \n",
       "2  Blaster     Cleric   8  12         0         0         1         3   \n",
       "\n",
       "   cha_save  int_save  initiative_bonus  healer  bonus_action_heal  \\\n",
       "0         0        -1                 0   False                NaN   \n",
       "1         0        -1                 0   False                NaN   \n",
       "2         2         0                 0    True                1.0   \n",
       "\n",
       "  heal_amount  number_of_attacks  attack_bonus  number_of_targets  \\\n",
       "0         NaN                2.0           2.0                NaN   \n",
       "1         NaN                1.0           2.0                NaN   \n",
       "2       1d4+3                NaN           NaN                2.0   \n",
       "\n",
       "   spell_save_dc targeted_save attack_damage  \n",
       "0            NaN           NaN         2d6+4  \n",
       "1            NaN           NaN        1d12+4  \n",
       "2           13.0           dex           3d6  "
      ]
     },
     "execution_count": 5,
     "metadata": {},
     "output_type": "execute_result"
    }
   ],
   "source": [
    "inpute_path = \"../data/upload_xlsx_here/character_info.xlsx\"\n",
    "heroes_df = pd.read_excel(inpute_path, sheet_name=\"Heroes\")\n",
    "monsters_df = pd.read_excel(inpute_path, sheet_name=\"Monsters\")\n",
    "heroes_df"
   ]
  },
  {
   "cell_type": "code",
   "execution_count": 11,
   "metadata": {},
   "outputs": [
    {
     "name": "stdout",
     "output_type": "stream",
     "text": [
      "Barbarian\n",
      "Fighter\n",
      "Cleric\n"
     ]
    }
   ],
   "source": [
    "for index, row in heroes_df.iterrows():\n",
    "    print(row['Name'])"
   ]
  },
  {
   "cell_type": "code",
   "execution_count": null,
   "metadata": {},
   "outputs": [],
   "source": []
  }
 ],
 "metadata": {
  "kernelspec": {
   "display_name": "Python 3",
   "language": "python",
   "name": "python3"
  },
  "language_info": {
   "codemirror_mode": {
    "name": "ipython",
    "version": 3
   },
   "file_extension": ".py",
   "mimetype": "text/x-python",
   "name": "python",
   "nbconvert_exporter": "python",
   "pygments_lexer": "ipython3",
   "version": "3.11.5"
  }
 },
 "nbformat": 4,
 "nbformat_minor": 2
}
