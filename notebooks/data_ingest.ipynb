{
 "cells": [
  {
   "cell_type": "code",
   "execution_count": null,
   "metadata": {},
   "outputs": [],
   "source": [
    "import pandas as pd\n",
    "import numpy as np\n",
    "import random\n",
    "import os\n",
    "import sys\n",
    "\n",
    "module_path = os.path.abspath(os.path.join(\"..\"))\n",
    "sub_module_path = os.path.abspath(os.path.join(\"../src\"))\n",
    "if module_path not in sys.path:\n",
    "    sys.path.append(module_path)\n",
    "    sys.path.append(sub_module_path)"
   ]
  },
  {
   "cell_type": "code",
   "execution_count": null,
   "metadata": {},
   "outputs": [],
   "source": [
    "from classes import martial, blaster"
   ]
  },
  {
   "cell_type": "code",
   "execution_count": null,
   "metadata": {},
   "outputs": [],
   "source": [
    "input_path = \"../data/upload_xlsx_here/character_info.xlsx\"\n",
    "heroes_df = pd.read_excel(input_path, sheet_name=\"Heroes\")\n",
    "heroes_df.name = 'heroes'\n",
    "monsters_df = pd.read_excel(input_path, sheet_name=\"Monsters\")\n",
    "monsters_df.name = 'monsters'\n",
    "heroes_df"
   ]
  },
  {
   "cell_type": "code",
   "execution_count": null,
   "metadata": {},
   "outputs": [],
   "source": [
    "# heroes = []\n",
    "# for index, row in heroes_df.iterrows():\n",
    "#     saves = {\"str\": row['str_save'], \"dex\": row['dex_save'], \"con\": row['con_save'], \"wis\": row['wis_save'], \"cha\": row['cha_save'], \"int\": row['int_save']}\n",
    "#     if row['Type']==\"Martial\":\n",
    "#         #TODO: add error handling for missing values, wrong formats, etc.\n",
    "#         heroes.append(martial(name=row['Name'], hp=row['HP'], ac=row['AC'], saves=saves, initiative_bonus=row['initiative_bonus'],\n",
    "#                              healer = row['healer'], number_of_attacks=row['number_of_attacks'], attack_bonus=row['attack_bonus'], attack_damage=row['attack_damage']))\n",
    "#     elif row['Type']==\"Blaster\":\n",
    "#         heroes.append(martial(name=row['Name'], hp=row['HP'], ac=row['AC'], saves=saves, initiative_bonus=row['initiative_bonus'],\n",
    "#                              healer = row['healer'], number_of_targets=row['number_of_targets'], spell_save_dc=row['spell_save_dc'],\n",
    "#                              targeted_save=row['targeted_save'], attack_damage=row['attack_damage']))\n",
    "#     else:\n",
    "#         print(f\"row {index} contains unknown type {row['Type']}, please check.\")"
   ]
  },
  {
   "cell_type": "code",
   "execution_count": null,
   "metadata": {},
   "outputs": [],
   "source": [
    "dfs = [heroes_df, monsters_df]\n",
    "characters_dict=dict()\n",
    "for df in dfs:\n",
    "    characters = []\n",
    "    for index, row in df.iterrows():\n",
    "        saves = {\"str\": row['str_save'], \"dex\": row['dex_save'], \"con\": row['con_save'], \"wis\": row['wis_save'], \"cha\": row['cha_save'], \"int\": row['int_save']}\n",
    "        if row['Type']==\"Martial\":\n",
    "            #TODO: add error handling for missing values, wrong formats, etc.\n",
    "            characters.append(martial(name=row['Name'], hp=row['HP'], ac=row['AC'], saves=saves, initiative_bonus=row['initiative_bonus'],\n",
    "                                 healer = row['healer'], number_of_attacks=row['number_of_attacks'], attack_bonus=row['attack_bonus'], attack_damage=row['attack_damage']))\n",
    "        elif row['Type']==\"Blaster\":\n",
    "            characters.append(blaster(name=row['Name'], hp=row['HP'], ac=row['AC'], saves=saves, initiative_bonus=row['initiative_bonus'],\n",
    "                                 healer = row['healer'], number_of_targets=row['number_of_targets'], spell_save_dc=row['spell_save_dc'],\n",
    "                                 targeted_save=row['targeted_save'], attack_damage=row['attack_damage']))\n",
    "        else:\n",
    "            print(f\"row {index} contains unknown type {row['Type']}, please check.\")\n",
    "\n",
    "    characters_dict[df.name] = characters"
   ]
  },
  {
   "cell_type": "code",
   "execution_count": null,
   "metadata": {},
   "outputs": [],
   "source": [
    "characters_dict['heroes']"
   ]
  },
  {
   "cell_type": "code",
   "execution_count": null,
   "metadata": {},
   "outputs": [],
   "source": []
  }
 ],
 "metadata": {
  "kernelspec": {
   "display_name": "Python 3",
   "language": "python",
   "name": "python3"
  },
  "language_info": {
   "codemirror_mode": {
    "name": "ipython",
    "version": 3
   },
   "file_extension": ".py",
   "mimetype": "text/x-python",
   "name": "python",
   "nbconvert_exporter": "python",
   "pygments_lexer": "ipython3",
   "version": "3.11.5"
  }
 },
 "nbformat": 4,
 "nbformat_minor": 2
}
