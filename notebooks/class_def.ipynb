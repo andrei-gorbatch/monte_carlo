{
 "cells": [
  {
   "cell_type": "code",
   "execution_count": 10,
   "metadata": {},
   "outputs": [],
   "source": [
    "import pandas \n",
    "import numpy as np\n",
    "import random"
   ]
  },
  {
   "cell_type": "code",
   "execution_count": 11,
   "metadata": {},
   "outputs": [],
   "source": [
    "def calculate_attack_damage(to_attack: int, attack_damage: str) -> int:\n",
    "    damages = attack_damage.replace('d', '+').split('+')\n",
    "    damage = 0\n",
    "    for i in range(0,len(damages)):\n",
    "        if i==1:\n",
    "            damage = damage +  random.randint(1, int(damages[i]))\n",
    "            #Critical hit\n",
    "            if to_attack == 20:\n",
    "                damage = damage +  random.randint(1, int(damages[i]))\n",
    "        else:\n",
    "            damage = damage + int(damages[i])\n",
    "    return damage\n",
    "\n",
    "def calculate_spell_damage(attack_damage: str) -> int:\n",
    "    damages = attack_damage.replace('d', '+').split('+')\n",
    "    damage = 0\n",
    "    for i in range(0,len(damages)):\n",
    "        if i==1:\n",
    "            damage = damage +  random.randint(1, int(damages[i]))\n",
    "        else:\n",
    "            damage = damage + int(damages[i])\n",
    "    return damage"
   ]
  },
  {
   "cell_type": "code",
   "execution_count": 48,
   "metadata": {},
   "outputs": [],
   "source": [
    "# Set up\n",
    "class character:\n",
    "    def __init__(self, name, hp, ac, saves, heal):\n",
    "        self.name = name\n",
    "        self.hp = hp\n",
    "        self.max_hp = hp\n",
    "        self.ac = ac\n",
    "        self.saves = saves\n",
    "        self.heal = heal\n",
    "\n",
    "    def take_attack_damage(self, attack_roll):\n",
    "        to_attack, damage = attack_roll\n",
    "        if to_attack >= self.ac:\n",
    "            self.hp = max(self.hp - damage, 0)\n",
    "\n",
    "    def take_heal(self, heal):\n",
    "        self.hp = min(self.hp + heal, self.max_hp)\n",
    "    \n",
    "    def take_saving_throw_damage(self, spell_attack):\n",
    "        targeted_save, spell_save_dc, damage = spell_attack\n",
    "        save = random.randint(1, 20) + self.saves[targeted_save]\n",
    "        if spell_save_dc > save:\n",
    "            self.hp = max(self.hp - damage, 0)\n"
   ]
  },
  {
   "cell_type": "code",
   "execution_count": 49,
   "metadata": {},
   "outputs": [],
   "source": [
    "class martial(character):\n",
    "  def __init__(self, name, hp, ac, attack_bonus, attack_damage, number_of_attacks, saves, heal):\n",
    "    super().__init__(name, hp, ac, saves, heal)\n",
    "    self.attack_bonus = attack_bonus\n",
    "    self.attack_damage = attack_damage\n",
    "    self.number_of_attacks = number_of_attacks\n",
    "\n",
    "  def roll_to_attack(self):\n",
    "    # Roll to attack and damage\n",
    "    to_attack = random.randint(1, 20) + self.attack_bonus\n",
    "    damage = calculate_attack_damage(to_attack, self.attack_damage)\n",
    "    return tuple([to_attack, damage])"
   ]
  },
  {
   "cell_type": "code",
   "execution_count": 50,
   "metadata": {},
   "outputs": [],
   "source": [
    "class blaster(character):\n",
    "  def __init__(self, name, hp, ac, spell_save_dc, attack_damage, saves, heal):\n",
    "    super().__init__(name, hp, ac, saves, heal)\n",
    "    self.spell_save_dc = spell_save_dc\n",
    "    self.attack_damage = attack_damage\n",
    "    self.targeted_save = \"dex\"\n",
    "\n",
    "  def spell_attack(self):\n",
    "    # Roll damage\n",
    "    damage = calculate_spell_damage(self.attack_damage)\n",
    "    return tuple([self.targeted_save, self.spell_save_dc, damage])\n"
   ]
  },
  {
   "cell_type": "code",
   "execution_count": 51,
   "metadata": {},
   "outputs": [],
   "source": [
    "class controller(character):\n",
    "  def __init__(self, name, hp, ac, spell_save_dc, saves, heal):\n",
    "    super().__init__(name, hp, ac, saves, heal)\n",
    "    self.spell_save_dc = spell_save_dc\n",
    "    self.targeted_save = \"wis\""
   ]
  },
  {
   "cell_type": "code",
   "execution_count": 52,
   "metadata": {},
   "outputs": [],
   "source": [
    "hero1 = martial(\"barbarian\", 12, 14, 2, \"2d6+4\", 1, {\"dex\": 2, \"wis\": -1}, False)\n",
    "hero2 = martial(\"fighter\", 10, 16, 2, \"1d12+4\", 1, {\"dex\": 4, \"wis\": 0}, False)\n",
    "hero3 = blaster(\"cleric\", 8, 12, 13, \"3d6\", {\"dex\": 0, \"wis\": 3}, True)\n",
    "hero4 = controller(\"wizard\", 8, 12, 14, {\"dex\": 1, \"wis\": 1}, False)\n",
    "\n",
    "monster1 = martial(\"goblin\", 12, 14, 2, \"2d6+4\", 1, {\"dex\": 2, \"wis\": 0}, False)\n",
    "monster2 = martial(\"goblin\", 12, 14, 2, \"2d6+4\", 1, {\"dex\": 2, \"wis\": 0}, False)\n",
    "monster3 = blaster(\"goblin shaman\", 8, 12, 13, \"3d6\", {\"dex\": 1, \"wis\": 2}, True)\n",
    "monster4 = controller(\"goblin shaman\", 8, 12, 14, {\"dex\": 1, \"wis\": 2}, True)"
   ]
  },
  {
   "cell_type": "code",
   "execution_count": null,
   "metadata": {},
   "outputs": [],
   "source": []
  }
 ],
 "metadata": {
  "kernelspec": {
   "display_name": "Python 3",
   "language": "python",
   "name": "python3"
  },
  "language_info": {
   "codemirror_mode": {
    "name": "ipython",
    "version": 3
   },
   "file_extension": ".py",
   "mimetype": "text/x-python",
   "name": "python",
   "nbconvert_exporter": "python",
   "pygments_lexer": "ipython3",
   "version": "3.11.5"
  }
 },
 "nbformat": 4,
 "nbformat_minor": 2
}
